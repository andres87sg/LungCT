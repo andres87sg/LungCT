{
  "nbformat": 4,
  "nbformat_minor": 0,
  "metadata": {
    "colab": {
      "name": "LungInfSegm.ipynb",
      "provenance": [],
      "authorship_tag": "ABX9TyNW0kjH1apF+F9uy5MFdHpJ",
      "include_colab_link": true
    },
    "kernelspec": {
      "name": "python3",
      "display_name": "Python 3"
    },
    "language_info": {
      "name": "python"
    },
    "accelerator": "GPU"
  },
  "cells": [
    {
      "cell_type": "markdown",
      "metadata": {
        "id": "view-in-github",
        "colab_type": "text"
      },
      "source": [
        "<a href=\"https://colab.research.google.com/github/asandino87/LungCT/blob/v3.8/LungInfSegm.ipynb\" target=\"_parent\"><img src=\"https://colab.research.google.com/assets/colab-badge.svg\" alt=\"Open In Colab\"/></a>"
      ]
    },
    {
      "cell_type": "code",
      "metadata": {
        "id": "jysdUdldCy_t"
      },
      "source": [
        "import tensorflow as tf\n",
        "import tensorflow.keras as keras\n",
        "from tensorflow.keras.preprocessing.image import ImageDataGenerator\n",
        "\n",
        "from tensorflow.keras import Input,layers, models\n",
        "from tensorflow.keras.layers import Conv2DTranspose,Dropout,Conv2D,BatchNormalization, Activation,MaxPooling2D\n",
        "from tensorflow.keras import Model\n",
        "from tensorflow.keras.callbacks import EarlyStopping, ModelCheckpoint, LearningRateScheduler\n",
        "\n",
        "import math\n",
        "import albumentations as A\n",
        "import matplotlib.pyplot as plt"
      ],
      "execution_count": 1,
      "outputs": []
    },
    {
      "cell_type": "code",
      "metadata": {
        "id": "3zW_6x6bMDh0",
        "colab": {
          "base_uri": "https://localhost:8080/",
          "height": 35
        },
        "outputId": "65a4d19d-1c3f-4931-ba91-9e72c75374fc"
      },
      "source": [
        "import tensorflow as tf\n",
        "tf.test.gpu_device_name()"
      ],
      "execution_count": 2,
      "outputs": [
        {
          "output_type": "execute_result",
          "data": {
            "application/vnd.google.colaboratory.intrinsic+json": {
              "type": "string"
            },
            "text/plain": [
              "'/device:GPU:0'"
            ]
          },
          "metadata": {
            "tags": []
          },
          "execution_count": 2
        }
      ]
    },
    {
      "cell_type": "code",
      "metadata": {
        "colab": {
          "base_uri": "https://localhost:8080/"
        },
        "id": "3keJonAlDFBj",
        "outputId": "8eebcd37-3757-46f9-dca8-e2ba7b8106a2"
      },
      "source": [
        "from google.colab import drive\n",
        "drive.mount('/content/drive')"
      ],
      "execution_count": 4,
      "outputs": [
        {
          "output_type": "stream",
          "text": [
            "Drive already mounted at /content/drive; to attempt to forcibly remount, call drive.mount(\"/content/drive\", force_remount=True).\n"
          ],
          "name": "stdout"
        }
      ]
    },
    {
      "cell_type": "markdown",
      "metadata": {
        "id": "oBGypltBF8WE"
      },
      "source": [
        "**Experimental setup**"
      ]
    },
    {
      "cell_type": "code",
      "metadata": {
        "id": "e0TBLAfXp03z"
      },
      "source": [
        "experiment_name = 'LungInf_SF4_Filt64'\n",
        "scale_factor = 4\n",
        "filters = 64\n",
        "image_size = 512"
      ],
      "execution_count": 5,
      "outputs": []
    },
    {
      "cell_type": "code",
      "metadata": {
        "id": "atvcc6CnI_XL"
      },
      "source": [
        "input_dir = '/content/drive/My Drive/LungCT/LungInf/Train/CT2/'\n",
        "mask_dir = '/content/drive/My Drive/LungCT/LungInf/Train/Mask/'\n",
        "\n",
        "val_dir = '/content/drive/My Drive/LungCT/LungInf/Val/CT2/'\n",
        "mask_val_dir = '/content/drive/My Drive/LungCT/LungInf/Val/Mask/'"
      ],
      "execution_count": 6,
      "outputs": []
    },
    {
      "cell_type": "code",
      "metadata": {
        "colab": {
          "base_uri": "https://localhost:8080/"
        },
        "id": "K_e2CtBtKN3a",
        "outputId": "3132d875-3d8c-4ea6-cd2d-1dfb8b6dcfc8"
      },
      "source": [
        "target_size=(image_size//scale_factor, image_size//scale_factor)\n",
        "\n",
        "image_datagen = ImageDataGenerator(\n",
        "                                  rescale=1./255,\n",
        "                                  rotation_range=20,                                  \n",
        "                                  #fill_mode='nearest',\n",
        "                                  #zoom_range=0.2,\n",
        "                                  #width_shift_range=0.01,\n",
        "                                  #height_shift_range=0.01,\n",
        "                                  #horizontal_flip=False,\n",
        "                                  #vertical_flip=True,\n",
        "                                  #channel_shift_range=0.1,\n",
        "                                  )\n",
        "\n",
        "# mask_datagen = ImageDataGenerator(rescale=1./255)\n",
        "\n",
        "image_datagen_val = ImageDataGenerator(rescale=1./255)\n",
        "mask_datagen_val = ImageDataGenerator(rescale=1./255)\n",
        "\n",
        "image_generator = image_datagen.flow_from_directory(\n",
        "    input_dir,\n",
        "    class_mode=None, target_size=target_size,  batch_size=32,\n",
        "    seed=1)\n",
        "\n",
        "mask_generator = image_datagen.flow_from_directory(\n",
        "    mask_dir,\n",
        "    class_mode=None, target_size=target_size, batch_size=32,\n",
        "    seed=1)\n",
        "\n",
        "image_generator_val = image_datagen_val.flow_from_directory(\n",
        "    val_dir,\n",
        "    class_mode=None, target_size=target_size, batch_size=32,\n",
        "    seed=1)\n",
        "\n",
        "mask_generator_val = mask_datagen_val.flow_from_directory(\n",
        "    mask_val_dir,\n",
        "    class_mode=None, target_size=target_size, batch_size=32,\n",
        "    seed=1)\n",
        "\n",
        "\n",
        "steps = image_generator.n//image_generator.batch_size\n",
        "steps_val = image_generator_val.n//image_generator_val.batch_size\n",
        "\n",
        "\n",
        "train_generator = zip(image_generator, mask_generator)\n",
        "val_generator = zip(image_generator_val, mask_generator_val)"
      ],
      "execution_count": 7,
      "outputs": [
        {
          "output_type": "stream",
          "text": [
            "Found 788 images belonging to 1 classes.\n",
            "Found 788 images belonging to 1 classes.\n",
            "Found 98 images belonging to 1 classes.\n",
            "Found 98 images belonging to 1 classes.\n"
          ],
          "name": "stdout"
        }
      ]
    },
    {
      "cell_type": "code",
      "metadata": {
        "colab": {
          "base_uri": "https://localhost:8080/",
          "height": 932
        },
        "id": "sAYW3jvYKXGE",
        "outputId": "1688d4ec-1d2b-483a-a4e1-c806dec4a41e"
      },
      "source": [
        "for _ in range(5):\n",
        "    img = image_generator.next()\n",
        "    mask = mask_generator.next()\n",
        "    \n",
        "    print(img.shape)\n",
        "    plt.figure(1)\n",
        "    plt.subplot(1,2,1)\n",
        "    plt.axis('off')\n",
        "    plt.imshow(img[0])\n",
        "    plt.subplot(1,2,2)\n",
        "    plt.imshow(mask[0])\n",
        "    plt.axis('off')\n",
        "    plt.show()\n"
      ],
      "execution_count": 8,
      "outputs": [
        {
          "output_type": "stream",
          "text": [
            "(32, 128, 128, 3)\n"
          ],
          "name": "stdout"
        },
        {
          "output_type": "display_data",
          "data": {
            "image/png": "[encoded data removed]",
            "text/plain": [
              "<Figure size 432x288 with 2 Axes>"
            ]
          },
          "metadata": {
            "tags": [],
            "needs_background": "light"
          }
        },
        {
          "output_type": "stream",
          "text": [
            "(32, 128, 128, 3)\n"
          ],
          "name": "stdout"
        },
        {
          "output_type": "display_data",
          "data": {
            "image/png": "[encoded data removed]",
            "text/plain": [
              "<Figure size 432x288 with 2 Axes>"
            ]
          },
          "metadata": {
            "tags": [],
            "needs_background": "light"
          }
        },
        {
          "output_type": "stream",
          "text": [
            "(32, 128, 128, 3)\n"
          ],
          "name": "stdout"
        },
        {
          "output_type": "display_data",
          "data": {
            "image/png": "[encoded data removed]",
            "text/plain": [
              "<Figure size 432x288 with 2 Axes>"
            ]
          },
          "metadata": {
            "tags": [],
            "needs_background": "light"
          }
        },
        {
          "output_type": "stream",
          "text": [
            "(32, 128, 128, 3)\n"
          ],
          "name": "stdout"
        },
        {
          "output_type": "display_data",
          "data": {
            "image/png": "[encoded data removed]",
            "text/plain": [
              "<Figure size 432x288 with 2 Axes>"
            ]
          },
          "metadata": {
            "tags": [],
            "needs_background": "light"
          }
        },
        {
          "output_type": "stream",
          "text": [
            "(32, 128, 128, 3)\n"
          ],
          "name": "stdout"
        },
        {
          "output_type": "display_data",
          "data": {
            "image/png": "[encoded data removed]",
            "text/plain": [
              "<Figure size 432x288 with 2 Axes>"
            ]
          },
          "metadata": {
            "tags": [],
            "needs_background": "light"
          }
        }
      ]
    },
    {
      "cell_type": "code",
      "metadata": {
        "id": "8cdz9bSbLLDy"
      },
      "source": [
        "def conv_block(tensor, nfilters, size=3, padding='same', initializer=\"he_normal\"):\n",
        "    x = Conv2D(filters=nfilters, kernel_size=(size, size), padding=padding, kernel_initializer=initializer)(tensor)\n",
        "    x = BatchNormalization()(x)\n",
        "    x = Activation(\"relu\")(x)\n",
        "    x = Conv2D(filters=nfilters, kernel_size=(size, size), padding=padding, kernel_initializer=initializer)(x)\n",
        "    x = BatchNormalization()(x)\n",
        "    x = Activation(\"relu\")(x)\n",
        "    return x\n",
        "\n",
        "\n",
        "def deconv_block(tensor, residual, nfilters, size=3, padding='same', strides=(2, 2)):\n",
        "    y = Conv2DTranspose(nfilters, kernel_size=(size, size), strides=strides, padding=padding)(tensor)\n",
        "    y = tf.concat([y, residual], axis=3)\n",
        "    y = conv_block(y, nfilters)\n",
        "    return y\n",
        "\n",
        "\n",
        "def Unet(img_height, img_width, nclasses=2, filters=64):\n",
        "# down\n",
        "    input_layer = Input(shape=(img_height, img_width, 3), name='image_input')\n",
        "    conv1 = conv_block(input_layer, nfilters=filters)\n",
        "    conv1_out = MaxPooling2D(pool_size=(2, 2))(conv1)\n",
        "    conv2 = conv_block(conv1_out, nfilters=filters*2)\n",
        "    conv2_out = MaxPooling2D(pool_size=(2, 2))(conv2)\n",
        "    conv3 = conv_block(conv2_out, nfilters=filters*4)\n",
        "    conv3_out = MaxPooling2D(pool_size=(2, 2))(conv3)\n",
        "    conv4 = conv_block(conv3_out, nfilters=filters*8)\n",
        "    conv4_out = MaxPooling2D(pool_size=(2, 2))(conv4)\n",
        "    conv4_out = Dropout(0.5)(conv4_out)\n",
        "    conv5 = conv_block(conv4_out, nfilters=filters*16)\n",
        "    conv5 = Dropout(0.5,name='BOTTLENECK')(conv5)\n",
        "# up\n",
        "    deconv6 = deconv_block(conv5, residual=conv4, nfilters=filters*8)\n",
        "    deconv6 = Dropout(0.5)(deconv6)\n",
        "    deconv7 = deconv_block(deconv6, residual=conv3, nfilters=filters*4)\n",
        "    deconv7 = Dropout(0.5)(deconv7) \n",
        "    deconv8 = deconv_block(deconv7, residual=conv2, nfilters=filters*2)\n",
        "    deconv9 = deconv_block(deconv8, residual=conv1, nfilters=filters)\n",
        "# output\n",
        "    output_layer = Conv2D(filters=1, kernel_size=(1, 1))(deconv9)\n",
        "    output_layer = BatchNormalization()(output_layer)\n",
        "    output_layer = Activation('sigmoid')(output_layer)\n",
        "\n",
        "    model = Model(inputs=input_layer, outputs=output_layer, name='Unet')\n",
        "    return model"
      ],
      "execution_count": 9,
      "outputs": []
    },
    {
      "cell_type": "code",
      "metadata": {
        "colab": {
          "base_uri": "https://localhost:8080/"
        },
        "id": "mqPmE36ILZsR",
        "outputId": "a1c4bd00-7e66-421d-f854-4327b4d5a2d8"
      },
      "source": [
        "# filters=32\n",
        "nclasses=4\n",
        "\n",
        "model = Unet(image_size//scale_factor, image_size//scale_factor, nclasses, filters)\n",
        "\n",
        "model.summary()"
      ],
      "execution_count": 10,
      "outputs": [
        {
          "output_type": "stream",
          "text": [
            "Model: \"Unet\"\n",
            "__________________________________________________________________________________________________\n",
            "Layer (type)                    Output Shape         Param #     Connected to                     \n",
            "==================================================================================================\n",
            "image_input (InputLayer)        [(None, 128, 128, 3) 0                                            \n",
            "__________________________________________________________________________________________________\n",
            "conv2d (Conv2D)                 (None, 128, 128, 64) 1792        image_input[0][0]                \n",
            "__________________________________________________________________________________________________\n",
            "batch_normalization (BatchNorma (None, 128, 128, 64) 256         conv2d[0][0]                     \n",
            "__________________________________________________________________________________________________\n",
            "activation (Activation)         (None, 128, 128, 64) 0           batch_normalization[0][0]        \n",
            "__________________________________________________________________________________________________\n",
            "conv2d_1 (Conv2D)               (None, 128, 128, 64) 36928       activation[0][0]                 \n",
            "__________________________________________________________________________________________________\n",
            "batch_normalization_1 (BatchNor (None, 128, 128, 64) 256         conv2d_1[0][0]                   \n",
            "__________________________________________________________________________________________________\n",
            "activation_1 (Activation)       (None, 128, 128, 64) 0           batch_normalization_1[0][0]      \n",
            "__________________________________________________________________________________________________\n",
            "max_pooling2d (MaxPooling2D)    (None, 64, 64, 64)   0           activation_1[0][0]               \n",
            "__________________________________________________________________________________________________\n",
            "conv2d_2 (Conv2D)               (None, 64, 64, 128)  73856       max_pooling2d[0][0]              \n",
            "__________________________________________________________________________________________________\n",
            "batch_normalization_2 (BatchNor (None, 64, 64, 128)  512         conv2d_2[0][0]                   \n",
            "__________________________________________________________________________________________________\n",
            "activation_2 (Activation)       (None, 64, 64, 128)  0           batch_normalization_2[0][0]      \n",
            "__________________________________________________________________________________________________\n",
            "conv2d_3 (Conv2D)               (None, 64, 64, 128)  147584      activation_2[0][0]               \n",
            "__________________________________________________________________________________________________\n",
            "batch_normalization_3 (BatchNor (None, 64, 64, 128)  512         conv2d_3[0][0]                   \n",
            "__________________________________________________________________________________________________\n",
            "activation_3 (Activation)       (None, 64, 64, 128)  0           batch_normalization_3[0][0]      \n",
            "__________________________________________________________________________________________________\n",
            "max_pooling2d_1 (MaxPooling2D)  (None, 32, 32, 128)  0           activation_3[0][0]               \n",
            "__________________________________________________________________________________________________\n",
            "conv2d_4 (Conv2D)               (None, 32, 32, 256)  295168      max_pooling2d_1[0][0]            \n",
            "__________________________________________________________________________________________________\n",
            "batch_normalization_4 (BatchNor (None, 32, 32, 256)  1024        conv2d_4[0][0]                   \n",
            "__________________________________________________________________________________________________\n",
            "activation_4 (Activation)       (None, 32, 32, 256)  0           batch_normalization_4[0][0]      \n",
            "__________________________________________________________________________________________________\n",
            "conv2d_5 (Conv2D)               (None, 32, 32, 256)  590080      activation_4[0][0]               \n",
            "__________________________________________________________________________________________________\n",
            "batch_normalization_5 (BatchNor (None, 32, 32, 256)  1024        conv2d_5[0][0]                   \n",
            "__________________________________________________________________________________________________\n",
            "activation_5 (Activation)       (None, 32, 32, 256)  0           batch_normalization_5[0][0]      \n",
            "__________________________________________________________________________________________________\n",
            "max_pooling2d_2 (MaxPooling2D)  (None, 16, 16, 256)  0           activation_5[0][0]               \n",
            "__________________________________________________________________________________________________\n",
            "conv2d_6 (Conv2D)               (None, 16, 16, 512)  1180160     max_pooling2d_2[0][0]            \n",
            "__________________________________________________________________________________________________\n",
            "batch_normalization_6 (BatchNor (None, 16, 16, 512)  2048        conv2d_6[0][0]                   \n",
            "__________________________________________________________________________________________________\n",
            "activation_6 (Activation)       (None, 16, 16, 512)  0           batch_normalization_6[0][0]      \n",
            "__________________________________________________________________________________________________\n",
            "conv2d_7 (Conv2D)               (None, 16, 16, 512)  2359808     activation_6[0][0]               \n",
            "__________________________________________________________________________________________________\n",
            "batch_normalization_7 (BatchNor (None, 16, 16, 512)  2048        conv2d_7[0][0]                   \n",
            "__________________________________________________________________________________________________\n",
            "activation_7 (Activation)       (None, 16, 16, 512)  0           batch_normalization_7[0][0]      \n",
            "__________________________________________________________________________________________________\n",
            "max_pooling2d_3 (MaxPooling2D)  (None, 8, 8, 512)    0           activation_7[0][0]               \n",
            "__________________________________________________________________________________________________\n",
            "dropout (Dropout)               (None, 8, 8, 512)    0           max_pooling2d_3[0][0]            \n",
            "__________________________________________________________________________________________________\n",
            "conv2d_8 (Conv2D)               (None, 8, 8, 1024)   4719616     dropout[0][0]                    \n",
            "__________________________________________________________________________________________________\n",
            "batch_normalization_8 (BatchNor (None, 8, 8, 1024)   4096        conv2d_8[0][0]                   \n",
            "__________________________________________________________________________________________________\n",
            "activation_8 (Activation)       (None, 8, 8, 1024)   0           batch_normalization_8[0][0]      \n",
            "__________________________________________________________________________________________________\n",
            "conv2d_9 (Conv2D)               (None, 8, 8, 1024)   9438208     activation_8[0][0]               \n",
            "__________________________________________________________________________________________________\n",
            "batch_normalization_9 (BatchNor (None, 8, 8, 1024)   4096        conv2d_9[0][0]                   \n",
            "__________________________________________________________________________________________________\n",
            "activation_9 (Activation)       (None, 8, 8, 1024)   0           batch_normalization_9[0][0]      \n",
            "__________________________________________________________________________________________________\n",
            "BOTTLENECK (Dropout)            (None, 8, 8, 1024)   0           activation_9[0][0]               \n",
            "__________________________________________________________________________________________________\n",
            "conv2d_transpose (Conv2DTranspo (None, 16, 16, 512)  4719104     BOTTLENECK[0][0]                 \n",
            "__________________________________________________________________________________________________\n",
            "tf.concat (TFOpLambda)          (None, 16, 16, 1024) 0           conv2d_transpose[0][0]           \n",
            "                                                                 activation_7[0][0]               \n",
            "__________________________________________________________________________________________________\n",
            "conv2d_10 (Conv2D)              (None, 16, 16, 512)  4719104     tf.concat[0][0]                  \n",
            "__________________________________________________________________________________________________\n",
            "batch_normalization_10 (BatchNo (None, 16, 16, 512)  2048        conv2d_10[0][0]                  \n",
            "__________________________________________________________________________________________________\n",
            "activation_10 (Activation)      (None, 16, 16, 512)  0           batch_normalization_10[0][0]     \n",
            "__________________________________________________________________________________________________\n",
            "conv2d_11 (Conv2D)              (None, 16, 16, 512)  2359808     activation_10[0][0]              \n",
            "__________________________________________________________________________________________________\n",
            "batch_normalization_11 (BatchNo (None, 16, 16, 512)  2048        conv2d_11[0][0]                  \n",
            "__________________________________________________________________________________________________\n",
            "activation_11 (Activation)      (None, 16, 16, 512)  0           batch_normalization_11[0][0]     \n",
            "__________________________________________________________________________________________________\n",
            "dropout_1 (Dropout)             (None, 16, 16, 512)  0           activation_11[0][0]              \n",
            "__________________________________________________________________________________________________\n",
            "conv2d_transpose_1 (Conv2DTrans (None, 32, 32, 256)  1179904     dropout_1[0][0]                  \n",
            "__________________________________________________________________________________________________\n",
            "tf.concat_1 (TFOpLambda)        (None, 32, 32, 512)  0           conv2d_transpose_1[0][0]         \n",
            "                                                                 activation_5[0][0]               \n",
            "__________________________________________________________________________________________________\n",
            "conv2d_12 (Conv2D)              (None, 32, 32, 256)  1179904     tf.concat_1[0][0]                \n",
            "__________________________________________________________________________________________________\n",
            "batch_normalization_12 (BatchNo (None, 32, 32, 256)  1024        conv2d_12[0][0]                  \n",
            "__________________________________________________________________________________________________\n",
            "activation_12 (Activation)      (None, 32, 32, 256)  0           batch_normalization_12[0][0]     \n",
            "__________________________________________________________________________________________________\n",
            "conv2d_13 (Conv2D)              (None, 32, 32, 256)  590080      activation_12[0][0]              \n",
            "__________________________________________________________________________________________________\n",
            "batch_normalization_13 (BatchNo (None, 32, 32, 256)  1024        conv2d_13[0][0]                  \n",
            "__________________________________________________________________________________________________\n",
            "activation_13 (Activation)      (None, 32, 32, 256)  0           batch_normalization_13[0][0]     \n",
            "__________________________________________________________________________________________________\n",
            "dropout_2 (Dropout)             (None, 32, 32, 256)  0           activation_13[0][0]              \n",
            "__________________________________________________________________________________________________\n",
            "conv2d_transpose_2 (Conv2DTrans (None, 64, 64, 128)  295040      dropout_2[0][0]                  \n",
            "__________________________________________________________________________________________________\n",
            "tf.concat_2 (TFOpLambda)        (None, 64, 64, 256)  0           conv2d_transpose_2[0][0]         \n",
            "                                                                 activation_3[0][0]               \n",
            "__________________________________________________________________________________________________\n",
            "conv2d_14 (Conv2D)              (None, 64, 64, 128)  295040      tf.concat_2[0][0]                \n",
            "__________________________________________________________________________________________________\n",
            "batch_normalization_14 (BatchNo (None, 64, 64, 128)  512         conv2d_14[0][0]                  \n",
            "__________________________________________________________________________________________________\n",
            "activation_14 (Activation)      (None, 64, 64, 128)  0           batch_normalization_14[0][0]     \n",
            "__________________________________________________________________________________________________\n",
            "conv2d_15 (Conv2D)              (None, 64, 64, 128)  147584      activation_14[0][0]              \n",
            "__________________________________________________________________________________________________\n",
            "batch_normalization_15 (BatchNo (None, 64, 64, 128)  512         conv2d_15[0][0]                  \n",
            "__________________________________________________________________________________________________\n",
            "activation_15 (Activation)      (None, 64, 64, 128)  0           batch_normalization_15[0][0]     \n",
            "__________________________________________________________________________________________________\n",
            "conv2d_transpose_3 (Conv2DTrans (None, 128, 128, 64) 73792       activation_15[0][0]              \n",
            "__________________________________________________________________________________________________\n",
            "tf.concat_3 (TFOpLambda)        (None, 128, 128, 128 0           conv2d_transpose_3[0][0]         \n",
            "                                                                 activation_1[0][0]               \n",
            "__________________________________________________________________________________________________\n",
            "conv2d_16 (Conv2D)              (None, 128, 128, 64) 73792       tf.concat_3[0][0]                \n",
            "__________________________________________________________________________________________________\n",
            "batch_normalization_16 (BatchNo (None, 128, 128, 64) 256         conv2d_16[0][0]                  \n",
            "__________________________________________________________________________________________________\n",
            "activation_16 (Activation)      (None, 128, 128, 64) 0           batch_normalization_16[0][0]     \n",
            "__________________________________________________________________________________________________\n",
            "conv2d_17 (Conv2D)              (None, 128, 128, 64) 36928       activation_16[0][0]              \n",
            "__________________________________________________________________________________________________\n",
            "batch_normalization_17 (BatchNo (None, 128, 128, 64) 256         conv2d_17[0][0]                  \n",
            "__________________________________________________________________________________________________\n",
            "activation_17 (Activation)      (None, 128, 128, 64) 0           batch_normalization_17[0][0]     \n",
            "__________________________________________________________________________________________________\n",
            "conv2d_18 (Conv2D)              (None, 128, 128, 1)  65          activation_17[0][0]              \n",
            "__________________________________________________________________________________________________\n",
            "batch_normalization_18 (BatchNo (None, 128, 128, 1)  4           conv2d_18[0][0]                  \n",
            "__________________________________________________________________________________________________\n",
            "activation_18 (Activation)      (None, 128, 128, 1)  0           batch_normalization_18[0][0]     \n",
            "==================================================================================================\n",
            "Total params: 34,536,901\n",
            "Trainable params: 34,525,123\n",
            "Non-trainable params: 11,778\n",
            "__________________________________________________________________________________________________\n"
          ],
          "name": "stdout"
        }
      ]
    },
    {
      "cell_type": "code",
      "metadata": {
        "id": "7uEvk73Rk5BB"
      },
      "source": [
        "# learning rate schedule\n",
        "\n",
        "def step_decay(epoch):\n",
        "\tinitial_lrate = 1e-3\n",
        "\tdrop = 0.1\n",
        "\tepochs_drop = 50\n",
        "\tlrate = initial_lrate * math.pow(drop, math.floor((1+epoch)/epochs_drop))\n",
        "\treturn lrate"
      ],
      "execution_count": 11,
      "outputs": []
    },
    {
      "cell_type": "code",
      "metadata": {
        "id": "6ox_rJ9JLa2b"
      },
      "source": [
        "lr = LearningRateScheduler(step_decay)\n",
        "es = EarlyStopping(patience=20,mode='min', verbose=1)\n",
        "checkpoint_path ='/content/drive/My Drive/LungCT/' + experiment_name +'.h5'\n",
        "\n",
        "mc = ModelCheckpoint(checkpoint_path, monitor='val_loss', verbose=1 , save_best_only=True, mode='min')"
      ],
      "execution_count": 12,
      "outputs": []
    },
    {
      "cell_type": "code",
      "metadata": {
        "id": "8WAemFPALdjc"
      },
      "source": [
        "model.compile(optimizer='adam',\n",
        "              loss=tf.keras.losses.BinaryCrossentropy(from_logits=True),\n",
        "              metrics=['accuracy'])\n"
      ],
      "execution_count": 13,
      "outputs": []
    },
    {
      "cell_type": "code",
      "metadata": {
        "colab": {
          "base_uri": "https://localhost:8080/"
        },
        "id": "Dv_lcxLuLnrd",
        "outputId": "19e6b16a-3512-4c82-e2b1-d88fdc645a4b"
      },
      "source": [
        "history = model.fit(train_generator,\n",
        "                    steps_per_epoch=steps,\n",
        "                    validation_data=val_generator,\n",
        "                    validation_steps=steps_val,\n",
        "                    epochs=200,\n",
        "                    verbose=1,\n",
        "                    callbacks=[es,mc,lr])"
      ],
      "execution_count": 14,
      "outputs": [
        {
          "output_type": "stream",
          "text": [
            "Epoch 1/200\n",
            "24/24 [==============================] - 961s 41s/step - loss: 0.6899 - accuracy: 0.8209 - val_loss: 32.5011 - val_accuracy: 0.1751\n",
            "\n",
            "Epoch 00001: val_loss improved from inf to 32.50112, saving model to /content/drive/My Drive/LungCT/LungInf_SF4_Filt64.h5\n",
            "Epoch 2/200\n",
            "24/24 [==============================] - 10s 432ms/step - loss: 0.6579 - accuracy: 0.8409 - val_loss: 1184.0505 - val_accuracy: 0.0030\n",
            "\n",
            "Epoch 00002: val_loss did not improve from 32.50112\n",
            "Epoch 3/200\n",
            "24/24 [==============================] - 11s 453ms/step - loss: 0.6515 - accuracy: 0.8508 - val_loss: 11.0736 - val_accuracy: 0.0542\n",
            "\n",
            "Epoch 00003: val_loss improved from 32.50112 to 11.07359, saving model to /content/drive/My Drive/LungCT/LungInf_SF4_Filt64.h5\n",
            "Epoch 4/200\n",
            "24/24 [==============================] - 10s 442ms/step - loss: 0.6386 - accuracy: 0.8477 - val_loss: 1.2414 - val_accuracy: 0.4566\n",
            "\n",
            "Epoch 00004: val_loss improved from 11.07359 to 1.24140, saving model to /content/drive/My Drive/LungCT/LungInf_SF4_Filt64.h5\n",
            "Epoch 5/200\n",
            "24/24 [==============================] - 10s 433ms/step - loss: 0.6260 - accuracy: 0.8530 - val_loss: 0.7242 - val_accuracy: 0.3403\n",
            "\n",
            "Epoch 00005: val_loss improved from 1.24140 to 0.72424, saving model to /content/drive/My Drive/LungCT/LungInf_SF4_Filt64.h5\n",
            "Epoch 6/200\n",
            "24/24 [==============================] - 10s 434ms/step - loss: 0.6164 - accuracy: 0.8478 - val_loss: 0.6300 - val_accuracy: 0.8416\n",
            "\n",
            "Epoch 00006: val_loss improved from 0.72424 to 0.63000, saving model to /content/drive/My Drive/LungCT/LungInf_SF4_Filt64.h5\n",
            "Epoch 7/200\n",
            "24/24 [==============================] - 10s 444ms/step - loss: 0.6036 - accuracy: 0.8519 - val_loss: 0.5671 - val_accuracy: 0.8544\n",
            "\n",
            "Epoch 00007: val_loss improved from 0.63000 to 0.56706, saving model to /content/drive/My Drive/LungCT/LungInf_SF4_Filt64.h5\n",
            "Epoch 8/200\n",
            "24/24 [==============================] - 10s 449ms/step - loss: 0.5958 - accuracy: 0.8527 - val_loss: 0.5825 - val_accuracy: 0.8525\n",
            "\n",
            "Epoch 00008: val_loss did not improve from 0.56706\n",
            "Epoch 9/200\n",
            "24/24 [==============================] - 11s 471ms/step - loss: 0.5857 - accuracy: 0.8459 - val_loss: 0.5631 - val_accuracy: 0.8526\n",
            "\n",
            "Epoch 00009: val_loss improved from 0.56706 to 0.56305, saving model to /content/drive/My Drive/LungCT/LungInf_SF4_Filt64.h5\n",
            "Epoch 10/200\n",
            "24/24 [==============================] - 11s 460ms/step - loss: 0.5774 - accuracy: 0.8556 - val_loss: 0.5591 - val_accuracy: 0.8556\n",
            "\n",
            "Epoch 00010: val_loss improved from 0.56305 to 0.55905, saving model to /content/drive/My Drive/LungCT/LungInf_SF4_Filt64.h5\n",
            "Epoch 11/200\n",
            "24/24 [==============================] - 10s 450ms/step - loss: 0.5662 - accuracy: 0.8554 - val_loss: 0.5440 - val_accuracy: 0.8529\n",
            "\n",
            "Epoch 00011: val_loss improved from 0.55905 to 0.54396, saving model to /content/drive/My Drive/LungCT/LungInf_SF4_Filt64.h5\n",
            "Epoch 12/200\n",
            "24/24 [==============================] - 10s 447ms/step - loss: 0.5597 - accuracy: 0.8488 - val_loss: 0.5831 - val_accuracy: 0.8553\n",
            "\n",
            "Epoch 00012: val_loss did not improve from 0.54396\n",
            "Epoch 13/200\n",
            "24/24 [==============================] - 11s 487ms/step - loss: 0.5494 - accuracy: 0.8523 - val_loss: 0.5339 - val_accuracy: 0.8535\n",
            "\n",
            "Epoch 00013: val_loss improved from 0.54396 to 0.53387, saving model to /content/drive/My Drive/LungCT/LungInf_SF4_Filt64.h5\n",
            "Epoch 14/200\n",
            "24/24 [==============================] - 11s 454ms/step - loss: 0.5406 - accuracy: 0.8524 - val_loss: 0.5338 - val_accuracy: 0.8549\n",
            "\n",
            "Epoch 00014: val_loss improved from 0.53387 to 0.53383, saving model to /content/drive/My Drive/LungCT/LungInf_SF4_Filt64.h5\n",
            "Epoch 15/200\n",
            "24/24 [==============================] - 11s 452ms/step - loss: 0.5319 - accuracy: 0.8541 - val_loss: 0.5680 - val_accuracy: 0.8165\n",
            "\n",
            "Epoch 00015: val_loss did not improve from 0.53383\n",
            "Epoch 16/200\n",
            "24/24 [==============================] - 11s 485ms/step - loss: 0.5244 - accuracy: 0.8489 - val_loss: 0.5122 - val_accuracy: 0.8541\n",
            "\n",
            "Epoch 00016: val_loss improved from 0.53383 to 0.51222, saving model to /content/drive/My Drive/LungCT/LungInf_SF4_Filt64.h5\n",
            "Epoch 17/200\n",
            "24/24 [==============================] - 10s 447ms/step - loss: 0.5160 - accuracy: 0.8523 - val_loss: 0.5137 - val_accuracy: 0.8552\n",
            "\n",
            "Epoch 00017: val_loss did not improve from 0.51222\n",
            "Epoch 18/200\n",
            "24/24 [==============================] - 11s 462ms/step - loss: 0.5073 - accuracy: 0.8535 - val_loss: 0.4994 - val_accuracy: 0.8564\n",
            "\n",
            "Epoch 00018: val_loss improved from 0.51222 to 0.49940, saving model to /content/drive/My Drive/LungCT/LungInf_SF4_Filt64.h5\n",
            "Epoch 19/200\n",
            "24/24 [==============================] - 11s 451ms/step - loss: 0.5035 - accuracy: 0.8483 - val_loss: 0.8999 - val_accuracy: 0.5097\n",
            "\n",
            "Epoch 00019: val_loss did not improve from 0.49940\n",
            "Epoch 20/200\n",
            "24/24 [==============================] - 11s 472ms/step - loss: 0.4987 - accuracy: 0.8501 - val_loss: 0.6000 - val_accuracy: 0.7847\n",
            "\n",
            "Epoch 00020: val_loss did not improve from 0.49940\n",
            "Epoch 21/200\n",
            "24/24 [==============================] - 10s 431ms/step - loss: 0.4867 - accuracy: 0.8523 - val_loss: 0.2490 - val_accuracy: 0.8543\n",
            "\n",
            "Epoch 00021: val_loss improved from 0.49940 to 0.24899, saving model to /content/drive/My Drive/LungCT/LungInf_SF4_Filt64.h5\n",
            "Epoch 22/200\n",
            "24/24 [==============================] - 10s 446ms/step - loss: 0.4798 - accuracy: 0.8484 - val_loss: 0.4484 - val_accuracy: 0.8536\n",
            "\n",
            "Epoch 00022: val_loss did not improve from 0.24899\n",
            "Epoch 23/200\n",
            "24/24 [==============================] - 11s 462ms/step - loss: 0.4718 - accuracy: 0.8533 - val_loss: 1.3064 - val_accuracy: 0.3416\n",
            "\n",
            "Epoch 00023: val_loss did not improve from 0.24899\n",
            "Epoch 24/200\n",
            "24/24 [==============================] - 10s 429ms/step - loss: 0.4650 - accuracy: 0.8562 - val_loss: 0.6509 - val_accuracy: 0.6933\n",
            "\n",
            "Epoch 00024: val_loss did not improve from 0.24899\n",
            "Epoch 25/200\n",
            "24/24 [==============================] - 10s 427ms/step - loss: 0.4565 - accuracy: 0.8475 - val_loss: 0.5954 - val_accuracy: 0.6469\n",
            "\n",
            "Epoch 00025: val_loss did not improve from 0.24899\n",
            "Epoch 26/200\n",
            "24/24 [==============================] - 10s 432ms/step - loss: 0.4501 - accuracy: 0.8559 - val_loss: 0.5052 - val_accuracy: 0.7516\n",
            "\n",
            "Epoch 00026: val_loss did not improve from 0.24899\n",
            "Epoch 27/200\n",
            "24/24 [==============================] - 10s 427ms/step - loss: 0.4432 - accuracy: 0.8536 - val_loss: 0.4734 - val_accuracy: 0.8069\n",
            "\n",
            "Epoch 00027: val_loss did not improve from 0.24899\n",
            "Epoch 28/200\n",
            "24/24 [==============================] - 10s 432ms/step - loss: 0.4390 - accuracy: 0.8530 - val_loss: 0.5815 - val_accuracy: 0.5938\n",
            "\n",
            "Epoch 00028: val_loss did not improve from 0.24899\n",
            "Epoch 29/200\n",
            "24/24 [==============================] - 10s 429ms/step - loss: 0.4313 - accuracy: 0.8523 - val_loss: 0.4577 - val_accuracy: 0.8550\n",
            "\n",
            "Epoch 00029: val_loss did not improve from 0.24899\n",
            "Epoch 30/200\n",
            "24/24 [==============================] - 10s 433ms/step - loss: 0.4260 - accuracy: 0.8507 - val_loss: 0.4287 - val_accuracy: 0.8574\n",
            "\n",
            "Epoch 00030: val_loss did not improve from 0.24899\n",
            "Epoch 31/200\n",
            "24/24 [==============================] - 10s 443ms/step - loss: 0.4204 - accuracy: 0.8482 - val_loss: 0.4223 - val_accuracy: 0.8554\n",
            "\n",
            "Epoch 00031: val_loss did not improve from 0.24899\n",
            "Epoch 32/200\n",
            "24/24 [==============================] - 10s 446ms/step - loss: 0.4141 - accuracy: 0.8530 - val_loss: 1.3205 - val_accuracy: 0.5449\n",
            "\n",
            "Epoch 00032: val_loss did not improve from 0.24899\n",
            "Epoch 33/200\n",
            "24/24 [==============================] - 10s 434ms/step - loss: 0.4086 - accuracy: 0.8507 - val_loss: 5.0427 - val_accuracy: 0.2981\n",
            "\n",
            "Epoch 00033: val_loss did not improve from 0.24899\n",
            "Epoch 34/200\n",
            "24/24 [==============================] - 10s 431ms/step - loss: 0.4101 - accuracy: 0.8530 - val_loss: 1.4389 - val_accuracy: 0.4542\n",
            "\n",
            "Epoch 00034: val_loss did not improve from 0.24899\n",
            "Epoch 35/200\n",
            "24/24 [==============================] - 10s 432ms/step - loss: 0.3991 - accuracy: 0.8534 - val_loss: 0.7870 - val_accuracy: 0.7101\n",
            "\n",
            "Epoch 00035: val_loss did not improve from 0.24899\n",
            "Epoch 36/200\n",
            "24/24 [==============================] - 10s 430ms/step - loss: 0.3912 - accuracy: 0.8515 - val_loss: 0.4803 - val_accuracy: 0.8326\n",
            "\n",
            "Epoch 00036: val_loss did not improve from 0.24899\n",
            "Epoch 37/200\n",
            "24/24 [==============================] - 10s 433ms/step - loss: 0.3857 - accuracy: 0.8530 - val_loss: 0.3904 - val_accuracy: 0.8541\n",
            "\n",
            "Epoch 00037: val_loss did not improve from 0.24899\n",
            "Epoch 38/200\n",
            "24/24 [==============================] - 10s 437ms/step - loss: 0.3805 - accuracy: 0.8587 - val_loss: 0.3510 - val_accuracy: 0.8546\n",
            "\n",
            "Epoch 00038: val_loss did not improve from 0.24899\n",
            "Epoch 39/200\n",
            "24/24 [==============================] - 10s 430ms/step - loss: 0.3754 - accuracy: 0.8566 - val_loss: 0.3907 - val_accuracy: 0.8557\n",
            "\n",
            "Epoch 00039: val_loss did not improve from 0.24899\n",
            "Epoch 40/200\n",
            "24/24 [==============================] - 10s 435ms/step - loss: 0.3702 - accuracy: 0.8523 - val_loss: 0.3501 - val_accuracy: 0.8551\n",
            "\n",
            "Epoch 00040: val_loss did not improve from 0.24899\n",
            "Epoch 41/200\n",
            "24/24 [==============================] - 10s 432ms/step - loss: 0.3655 - accuracy: 0.8547 - val_loss: 0.3622 - val_accuracy: 0.8562\n",
            "\n",
            "Epoch 00041: val_loss did not improve from 0.24899\n",
            "Epoch 00041: early stopping\n"
          ],
          "name": "stdout"
        }
      ]
    },
    {
      "cell_type": "code",
      "metadata": {
        "id": "m0PP-gUtLq45",
        "colab": {
          "base_uri": "https://localhost:8080/",
          "height": 558
        },
        "outputId": "c6f860aa-36aa-48d3-e5dd-219ff3c33943"
      },
      "source": [
        "import numpy as np\n",
        "\n",
        "plt.figure(1)\n",
        "plt.plot(history.history['accuracy'], label='accuracy')\n",
        "plt.plot(history.history['val_accuracy'], label = 'val_accuracy')\n",
        "plt.xlabel('Epoch')\n",
        "plt.ylabel('Accuracy')\n",
        "plt.ylim([0, 1])\n",
        "plt.yticks(np.arange(0, 1, step=0.05))\n",
        "plt.grid(color='k', linestyle='--', linewidth=0.4)\n",
        "plt.legend(loc='lower right')\n",
        "#plt.savefig(dir + 'accuracy_CNN_ ' + Exp +  '.png')\n",
        "\n",
        "plt.figure(2)\n",
        "plt.plot(history.history['loss'], label='loss')\n",
        "plt.plot(history.history['val_loss'], label = 'val_loss')\n",
        "plt.xlabel('Epoch')\n",
        "plt.ylabel('Loss')\n",
        "#plt.ylim([0, 1])\n",
        "#plt.yticks(np.arange(0, 1, step=0.05))\n",
        "plt.grid(color='k', linestyle='--', linewidth=0.4)\n",
        "plt.legend(loc='lower right')\n",
        "#plt.savefig(dir + 'loss_CNN_' + Exp + '.png')"
      ],
      "execution_count": null,
      "outputs": [
        {
          "output_type": "execute_result",
          "data": {
            "text/plain": [
              "<matplotlib.legend.Legend at 0x7f0f123a6c10>"
            ]
          },
          "metadata": {
            "tags": []
          },
          "execution_count": 14
        },
        {
          "output_type": "display_data",
          "data": {
            "image/png": "[encoded data removed]",
            "text/plain": [
              "<Figure size 432x288 with 1 Axes>"
            ]
          },
          "metadata": {
            "tags": [],
            "needs_background": "light"
          }
        },
        {
          "output_type": "display_data",
          "data": {
            "image/png": "[encoded data removed]",
            "text/plain": [
              "<Figure size 432x288 with 1 Axes>"
            ]
          },
          "metadata": {
            "tags": [],
            "needs_background": "light"
          }
        }
      ]
    },
    {
      "cell_type": "markdown",
      "metadata": {
        "id": "pTe7lts25d6G"
      },
      "source": [
        "***Evaluation***\n",
        "---\n",
        "\n"
      ]
    },
    {
      "cell_type": "code",
      "metadata": {
        "id": "kNdtEyVqCM09"
      },
      "source": [
        "import math\n",
        "import albumentations as A\n",
        "import matplotlib.pyplot as plt\n",
        "import numpy as np\n",
        "import os\n",
        "import cv2\n",
        "from tqdm import tqdm # Progress bar"
      ],
      "execution_count": null,
      "outputs": []
    },
    {
      "cell_type": "code",
      "metadata": {
        "id": "OKP0YZ9cj2H0"
      },
      "source": [
        "import tensorflow as tf\n",
        "import tensorflow.keras as keras\n",
        "\n",
        "model = keras.models.load_model('/content/drive/My Drive/LungCT/'+experiment_name+'.h5')\n",
        "\n",
        "path = '/content/drive/My Drive/LungCT/Test/CT/CT_png/'\n",
        "test_path = '/content/drive/My Drive/LungCT/Test/Mask_M/Mask_png/'\n",
        "\n",
        "listfiles = sorted(os.listdir(path))\n",
        "mask_listfiles = sorted(os.listdir(test_path))\n",
        "\n",
        "dicescore = []\n",
        "accuracy = []\n",
        "sensitivity = []\n",
        "specificity = []\n",
        "f1score = []\n",
        "\n",
        "IoUmetric = []\n",
        "\n",
        "## Input image to model must be 128x128 therefore 512/4\n",
        "scale = 2"
      ],
      "execution_count": null,
      "outputs": []
    },
    {
      "cell_type": "code",
      "metadata": {
        "id": "VgKHIPa-z-Oi"
      },
      "source": [
        "#for i in tqdm(range(len(listfiles))):\n",
        "#for i in tqdm(range(100)):\n",
        "for i in range(len(listfiles)):\n",
        "\n",
        "  # List of files\n",
        "  mask_im_name = mask_listfiles[i]\n",
        "  im_name = listfiles[i]\n",
        "       \n",
        "# Groundtruth image (array)\n",
        "  mask_array=cv2.imread(test_path+mask_im_name)   # Mask image\n",
        "  im_array = cv2.imread(path+im_name)               # Graylevel image\n",
        "  type(im_array)\n",
        "  #im_gray = im_array.copy()\n",
        "  im_gray = im_array\n",
        "  \n",
        "  #mask_array.shape()\n",
        "  # Groundtruth mask Image resize\n",
        "  mask_array=cv2.resize(mask_array,(512,512),interpolation = cv2.INTER_AREA)\n",
        "  \n",
        "  ## Input image to model must be 128x128 therefore 512/4\n",
        "  scale = 4\n",
        "  \n",
        "  # Image resize must resize (Model input 128 x 128)\n",
        "  im_array=cv2.resize(im_array,(512//scale_factor,512//scale_factor),\n",
        "                      interpolation = cv2.INTER_AREA)\n",
        "  im_array=im_array/255\n",
        "  \n",
        "  # Adding one dimension to array\n",
        "  img_array = np.expand_dims(im_array,axis=[0])\n",
        "  \n",
        "  # Generate image prediction\n",
        "  pred_mask = model.predict(img_array)\n",
        "  \n",
        "  # Image mask as (NxMx1) array\n",
        "  pred_mask = pred_mask[0,:,:,0]\n",
        "  pred_mask = np.uint16(np.round(pred_mask>0.5))\n",
        "  \n",
        "  # Resize image to 512x512x1\n",
        "  pred_mask = cv2.resize(pred_mask,(512,512), \n",
        "                      interpolation = cv2.INTER_AREA)\n",
        "  \n",
        "  true_mask = np.uint16(mask_array[:,:,0])//255\n",
        "  \n",
        "  intersectmask = true_mask & pred_mask\n",
        "  \n",
        "  #sumintersectmask = np.sum(intersectmask)\n",
        "  \n",
        "  sumpredtrue = np.sum(true_mask)+np.sum(pred_mask)\n",
        "  \n",
        "  if sumpredtrue != 0:\n",
        "        \n",
        "      dice = 2*np.sum(intersectmask)/(np.sum(true_mask)+np.sum(pred_mask)+0.001)\n",
        "  \n",
        "      dicescore.append(dice)\n",
        "  \n",
        "  true_mask_flat = true_mask.flatten()\n",
        "  pred_mask_flat = pred_mask.flatten()\n",
        "  \n",
        "  p = np.sum(true_mask_flat)\n",
        "  n = np.sum(np.logical_not(true_mask_flat))\n",
        "  tp = np.sum(true_mask_flat & pred_mask_flat)\n",
        "  fp = np.sum(np.logical_not(true_mask_flat) & pred_mask_flat)\n",
        "  tn = np.sum(np.logical_not(true_mask_flat) & np.logical_not(pred_mask_flat))\n",
        "  fn = np.sum(true_mask_flat & np.logical_not(pred_mask_flat))\n",
        "  \n",
        "  acc = (tp+tn)/(p+n)\n",
        "  sens = tp/(tp+fn+0.01) # Cuidado BUG!\n",
        "  spec = tn/(tn+fp)\n",
        "\n",
        "  IoU = tp/(tp+fp+fn+0.01)\n",
        "\n",
        "  #f1 = 2*tp/(2*tp+fp+fn)\n",
        "  \n",
        "  IoUmetric.append(IoU)\n",
        "  accuracy.append(acc)\n",
        "  sensitivity.append(sens)\n",
        "  specificity.append(spec)\n",
        "    #f1score.append(f1)"
      ],
      "execution_count": null,
      "outputs": []
    },
    {
      "cell_type": "code",
      "metadata": {
        "id": "3brVXaFC_jrR",
        "colab": {
          "base_uri": "https://localhost:8080/"
        },
        "outputId": "fb033fe3-43d8-43b2-a89f-4b12e6de6687"
      },
      "source": [
        "# Metrics\n",
        "\n",
        "dicescore = np.array(dicescore)\n",
        "meandice = np.mean(dicescore)\n",
        "stddice = np.std(dicescore)\n",
        "\n",
        "accuracy = np.array(accuracy)\n",
        "meanacc = np.mean(accuracy)\n",
        "stdacc = np.std(accuracy)\n",
        "\n",
        "IoU = np.array(IoUmetric)\n",
        "meanIoU = np.mean(IoUmetric)\n",
        "stdIoU = np.std(IoUmetric)\n",
        "\n",
        "# f1sco = np.array(f1score)\n",
        "# meanf1 = np.mean(f1sco)\n",
        "# stdf1 = np.std(f1sco)\n",
        "\n",
        "print('------------------------')    \n",
        "print('Mean Dice: '+str(meandice))\n",
        "print('Std Dice: '+str(stddice))\n",
        "print('------------------------')\n",
        "print('Mean Acc: '+str(meanacc))\n",
        "print('Std Acc: '+str(stdacc))\n",
        "print('------------------------')\n",
        "print('------------------------')\n",
        "print('Mean IoU: '+str(meanIoU))\n",
        "print('Std IoU: '+str(stdIoU))\n",
        "print('------------------------')"
      ],
      "execution_count": null,
      "outputs": [
        {
          "output_type": "stream",
          "text": [
            "------------------------\n",
            "Mean Dice: 0.4419015666776796\n",
            "Std Dice: 0.268145167267568\n",
            "------------------------\n",
            "Mean Acc: 0.9509874649913423\n",
            "Std Acc: 0.04640387541246903\n",
            "------------------------\n",
            "------------------------\n",
            "Mean IoU: 0.24964594335162799\n",
            "Std IoU: 0.2410190191793543\n",
            "------------------------\n"
          ],
          "name": "stdout"
        }
      ]
    },
    {
      "cell_type": "code",
      "metadata": {
        "id": "95oOvpfmh8NI"
      },
      "source": [
        ""
      ],
      "execution_count": null,
      "outputs": []
    }
  ]
}