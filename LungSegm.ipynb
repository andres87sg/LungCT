{
  "nbformat": 4,
  "nbformat_minor": 0,
  "metadata": {
    "colab": {
      "name": "LungSegm.ipynb",
      "provenance": [],
      "authorship_tag": "ABX9TyP5y/wGyv40a4Sn0dJJhPR8",
      "include_colab_link": true
    },
    "kernelspec": {
      "name": "python3",
      "display_name": "Python 3"
    },
    "language_info": {
      "name": "python"
    },
    "accelerator": "GPU"
  },
  "cells": [
    {
      "cell_type": "markdown",
      "metadata": {
        "id": "view-in-github",
        "colab_type": "text"
      },
      "source": [
        "<a href=\"https://colab.research.google.com/github/asandino87/LungCT/blob/v2.3/LungSegm.ipynb\" target=\"_parent\"><img src=\"https://colab.research.google.com/assets/colab-badge.svg\" alt=\"Open In Colab\"/></a>"
      ]
    },
    {
      "cell_type": "code",
      "metadata": {
        "id": "jysdUdldCy_t"
      },
      "source": [
        "import tensorflow as tf\n",
        "import tensorflow.keras as keras\n",
        "from tensorflow.keras.preprocessing.image import ImageDataGenerator\n",
        "\n",
        "from tensorflow.keras import Input,layers, models\n",
        "from tensorflow.keras.layers import Conv2DTranspose,Dropout,Conv2D,BatchNormalization, Activation,MaxPooling2D\n",
        "from tensorflow.keras import Model\n",
        "from tensorflow.keras.callbacks import EarlyStopping, ModelCheckpoint, LearningRateScheduler\n",
        "\n",
        "import math\n",
        "import albumentations as A\n",
        "import matplotlib.pyplot as plt"
      ],
      "execution_count": 1,
      "outputs": []
    },
    {
      "cell_type": "code",
      "metadata": {
        "id": "3zW_6x6bMDh0",
        "colab": {
          "base_uri": "https://localhost:8080/",
          "height": 35
        },
        "outputId": "5aadcc1b-d8a9-4658-8452-ffd283fbd8ff"
      },
      "source": [
        "import tensorflow as tf\n",
        "tf.test.gpu_device_name()"
      ],
      "execution_count": 2,
      "outputs": [
        {
          "output_type": "execute_result",
          "data": {
            "application/vnd.google.colaboratory.intrinsic+json": {
              "type": "string"
            },
            "text/plain": [
              "'/device:GPU:0'"
            ]
          },
          "metadata": {
            "tags": []
          },
          "execution_count": 2
        }
      ]
    },
    {
      "cell_type": "code",
      "metadata": {
        "colab": {
          "base_uri": "https://localhost:8080/"
        },
        "id": "3keJonAlDFBj",
        "outputId": "dd04bbb7-b663-48ed-e1b9-e3aa3ab1952b"
      },
      "source": [
        "from google.colab import drive\n",
        "drive.mount('/content/drive')"
      ],
      "execution_count": 4,
      "outputs": [
        {
          "output_type": "stream",
          "text": [
            "Drive already mounted at /content/drive; to attempt to forcibly remount, call drive.mount(\"/content/drive\", force_remount=True).\n"
          ],
          "name": "stdout"
        }
      ]
    },
    {
      "cell_type": "code",
      "metadata": {
        "id": "atvcc6CnI_XL"
      },
      "source": [
        "input_dir = '/content/drive/My Drive/LungCT/train_set/'\n",
        "mask_dir = '/content/drive/My Drive/LungCT/mask_train/'\n",
        "\n",
        "\n",
        "val_dir = '/content/drive/My Drive/LungCT/val_set/'\n",
        "mask_val_dir = '/content/drive/My Drive/LungCT/mask_val/'"
      ],
      "execution_count": 5,
      "outputs": []
    },
    {
      "cell_type": "code",
      "metadata": {
        "colab": {
          "base_uri": "https://localhost:8080/"
        },
        "id": "K_e2CtBtKN3a",
        "outputId": "ea25107c-379c-4f2b-ca9f-5c5a2484b9df"
      },
      "source": [
        "image_datagen = ImageDataGenerator(rescale=1./255)\n",
        "mask_datagen = ImageDataGenerator(rescale=1./255)\n",
        "\n",
        "image_datagen_val = ImageDataGenerator(rescale=1./255)\n",
        "mask_datagen_val = ImageDataGenerator(rescale=1./255)\n",
        "\n",
        "scale_factor = 2\n",
        "target_size=(512//scale_factor, 512//scale_factor)\n",
        "\n",
        "image_generator = image_datagen.flow_from_directory(\n",
        "    input_dir,\n",
        "    class_mode=None, target_size=target_size,\n",
        "    seed=1)\n",
        "\n",
        "mask_generator = mask_datagen.flow_from_directory(\n",
        "    mask_dir,\n",
        "    class_mode=None, target_size=target_size,\n",
        "    seed=1)\n",
        "\n",
        "image_generator_val = image_datagen_val.flow_from_directory(\n",
        "    val_dir,\n",
        "    class_mode=None, target_size=target_size,\n",
        "    seed=1)\n",
        "\n",
        "mask_generator_val = mask_datagen_val.flow_from_directory(\n",
        "    mask_val_dir,\n",
        "    class_mode=None, target_size=target_size,\n",
        "    seed=1)\n",
        "\n",
        "\n",
        "steps = image_generator.n//image_generator.batch_size\n",
        "steps_val = image_generator_val.n//image_generator_val.batch_size\n",
        "\n",
        "\n",
        "train_generator = zip(image_generator, mask_generator)\n",
        "val_generator = zip(image_generator_val, mask_generator_val)"
      ],
      "execution_count": 10,
      "outputs": [
        {
          "output_type": "stream",
          "text": [
            "Found 1991 images belonging to 1 classes.\n",
            "Found 1991 images belonging to 1 classes.\n",
            "Found 631 images belonging to 1 classes.\n",
            "Found 631 images belonging to 1 classes.\n"
          ],
          "name": "stdout"
        }
      ]
    },
    {
      "cell_type": "code",
      "metadata": {
        "colab": {
          "base_uri": "https://localhost:8080/",
          "height": 201
        },
        "id": "sAYW3jvYKXGE",
        "outputId": "3628856a-3cf5-4fad-b429-600c3f0780f3"
      },
      "source": [
        "for _ in range(1):\n",
        "    img = image_generator.next()\n",
        "    mask = mask_generator.next()\n",
        "    \n",
        "    print(img.shape)\n",
        "    plt.figure(1)\n",
        "    plt.subplot(1,2,1)\n",
        "    plt.axis('off')\n",
        "    plt.imshow(img[0])\n",
        "    plt.subplot(1,2,2)\n",
        "    plt.imshow(mask[0])\n",
        "    plt.axis('off')\n",
        "    plt.show()\n"
      ],
      "execution_count": 11,
      "outputs": [
        {
          "output_type": "stream",
          "text": [
            "(32, 256, 256, 3)\n"
          ],
          "name": "stdout"
        },
        {
          "output_type": "display_data",
          "data": {
            "image/png": "[encoded data removed]",
            "text/plain": [
              "<Figure size 432x288 with 2 Axes>"
            ]
          },
          "metadata": {
            "tags": [],
            "needs_background": "light"
          }
        }
      ]
    },
    {
      "cell_type": "code",
      "metadata": {
        "id": "8cdz9bSbLLDy"
      },
      "source": [
        "def conv_block(tensor, nfilters, size=3, padding='same', initializer=\"he_normal\"):\n",
        "    x = Conv2D(filters=nfilters, kernel_size=(size, size), padding=padding, kernel_initializer=initializer)(tensor)\n",
        "    x = BatchNormalization()(x)\n",
        "    x = Activation(\"relu\")(x)\n",
        "    x = Conv2D(filters=nfilters, kernel_size=(size, size), padding=padding, kernel_initializer=initializer)(x)\n",
        "    x = BatchNormalization()(x)\n",
        "    x = Activation(\"relu\")(x)\n",
        "    return x\n",
        "\n",
        "\n",
        "def deconv_block(tensor, residual, nfilters, size=3, padding='same', strides=(2, 2)):\n",
        "    y = Conv2DTranspose(nfilters, kernel_size=(size, size), strides=strides, padding=padding)(tensor)\n",
        "    y = tf.concat([y, residual], axis=3)\n",
        "    y = conv_block(y, nfilters)\n",
        "    return y\n",
        "\n",
        "\n",
        "def Unet(img_height, img_width, nclasses=2, filters=64):\n",
        "# down\n",
        "    input_layer = Input(shape=(img_height, img_width, 3), name='image_input')\n",
        "    conv1 = conv_block(input_layer, nfilters=filters)\n",
        "    conv1_out = MaxPooling2D(pool_size=(2, 2))(conv1)\n",
        "    conv2 = conv_block(conv1_out, nfilters=filters*2)\n",
        "    conv2_out = MaxPooling2D(pool_size=(2, 2))(conv2)\n",
        "    conv3 = conv_block(conv2_out, nfilters=filters*4)\n",
        "    conv3_out = MaxPooling2D(pool_size=(2, 2))(conv3)\n",
        "    conv4 = conv_block(conv3_out, nfilters=filters*8)\n",
        "    conv4_out = MaxPooling2D(pool_size=(2, 2))(conv4)\n",
        "    conv4_out = Dropout(0.5)(conv4_out)\n",
        "    conv5 = conv_block(conv4_out, nfilters=filters*16)\n",
        "    conv5 = Dropout(0.5)(conv5)\n",
        "# up\n",
        "    deconv6 = deconv_block(conv5, residual=conv4, nfilters=filters*8)\n",
        "    deconv6 = Dropout(0.5)(deconv6)\n",
        "    deconv7 = deconv_block(deconv6, residual=conv3, nfilters=filters*4)\n",
        "    deconv7 = Dropout(0.5)(deconv7) \n",
        "    deconv8 = deconv_block(deconv7, residual=conv2, nfilters=filters*2)\n",
        "    deconv9 = deconv_block(deconv8, residual=conv1, nfilters=filters)\n",
        "# output\n",
        "    output_layer = Conv2D(filters=1, kernel_size=(1, 1))(deconv9)\n",
        "    output_layer = BatchNormalization()(output_layer)\n",
        "    output_layer = Activation('sigmoid')(output_layer)\n",
        "\n",
        "    model = Model(inputs=input_layer, outputs=output_layer, name='Unet')\n",
        "    return model"
      ],
      "execution_count": null,
      "outputs": []
    },
    {
      "cell_type": "code",
      "metadata": {
        "colab": {
          "base_uri": "https://localhost:8080/"
        },
        "id": "mqPmE36ILZsR",
        "outputId": "e994b1d7-c0b8-4e4f-a0e6-520f326afb2a"
      },
      "source": [
        "model = Unet(512//scale_factor, 512//scale_factor, nclasses=2, filters=16)\n",
        "\n",
        "model.summary()"
      ],
      "execution_count": null,
      "outputs": [
        {
          "output_type": "stream",
          "text": [
            "Model: \"Unet\"\n",
            "__________________________________________________________________________________________________\n",
            "Layer (type)                    Output Shape         Param #     Connected to                     \n",
            "==================================================================================================\n",
            "image_input (InputLayer)        [(None, 128, 128, 3) 0                                            \n",
            "__________________________________________________________________________________________________\n",
            "conv2d_38 (Conv2D)              (None, 128, 128, 16) 448         image_input[0][0]                \n",
            "__________________________________________________________________________________________________\n",
            "batch_normalization_38 (BatchNo (None, 128, 128, 16) 64          conv2d_38[0][0]                  \n",
            "__________________________________________________________________________________________________\n",
            "activation_38 (Activation)      (None, 128, 128, 16) 0           batch_normalization_38[0][0]     \n",
            "__________________________________________________________________________________________________\n",
            "conv2d_39 (Conv2D)              (None, 128, 128, 16) 2320        activation_38[0][0]              \n",
            "__________________________________________________________________________________________________\n",
            "batch_normalization_39 (BatchNo (None, 128, 128, 16) 64          conv2d_39[0][0]                  \n",
            "__________________________________________________________________________________________________\n",
            "activation_39 (Activation)      (None, 128, 128, 16) 0           batch_normalization_39[0][0]     \n",
            "__________________________________________________________________________________________________\n",
            "max_pooling2d_8 (MaxPooling2D)  (None, 64, 64, 16)   0           activation_39[0][0]              \n",
            "__________________________________________________________________________________________________\n",
            "conv2d_40 (Conv2D)              (None, 64, 64, 32)   4640        max_pooling2d_8[0][0]            \n",
            "__________________________________________________________________________________________________\n",
            "batch_normalization_40 (BatchNo (None, 64, 64, 32)   128         conv2d_40[0][0]                  \n",
            "__________________________________________________________________________________________________\n",
            "activation_40 (Activation)      (None, 64, 64, 32)   0           batch_normalization_40[0][0]     \n",
            "__________________________________________________________________________________________________\n",
            "conv2d_41 (Conv2D)              (None, 64, 64, 32)   9248        activation_40[0][0]              \n",
            "__________________________________________________________________________________________________\n",
            "batch_normalization_41 (BatchNo (None, 64, 64, 32)   128         conv2d_41[0][0]                  \n",
            "__________________________________________________________________________________________________\n",
            "activation_41 (Activation)      (None, 64, 64, 32)   0           batch_normalization_41[0][0]     \n",
            "__________________________________________________________________________________________________\n",
            "max_pooling2d_9 (MaxPooling2D)  (None, 32, 32, 32)   0           activation_41[0][0]              \n",
            "__________________________________________________________________________________________________\n",
            "conv2d_42 (Conv2D)              (None, 32, 32, 64)   18496       max_pooling2d_9[0][0]            \n",
            "__________________________________________________________________________________________________\n",
            "batch_normalization_42 (BatchNo (None, 32, 32, 64)   256         conv2d_42[0][0]                  \n",
            "__________________________________________________________________________________________________\n",
            "activation_42 (Activation)      (None, 32, 32, 64)   0           batch_normalization_42[0][0]     \n",
            "__________________________________________________________________________________________________\n",
            "conv2d_43 (Conv2D)              (None, 32, 32, 64)   36928       activation_42[0][0]              \n",
            "__________________________________________________________________________________________________\n",
            "batch_normalization_43 (BatchNo (None, 32, 32, 64)   256         conv2d_43[0][0]                  \n",
            "__________________________________________________________________________________________________\n",
            "activation_43 (Activation)      (None, 32, 32, 64)   0           batch_normalization_43[0][0]     \n",
            "__________________________________________________________________________________________________\n",
            "max_pooling2d_10 (MaxPooling2D) (None, 16, 16, 64)   0           activation_43[0][0]              \n",
            "__________________________________________________________________________________________________\n",
            "conv2d_44 (Conv2D)              (None, 16, 16, 128)  73856       max_pooling2d_10[0][0]           \n",
            "__________________________________________________________________________________________________\n",
            "batch_normalization_44 (BatchNo (None, 16, 16, 128)  512         conv2d_44[0][0]                  \n",
            "__________________________________________________________________________________________________\n",
            "activation_44 (Activation)      (None, 16, 16, 128)  0           batch_normalization_44[0][0]     \n",
            "__________________________________________________________________________________________________\n",
            "conv2d_45 (Conv2D)              (None, 16, 16, 128)  147584      activation_44[0][0]              \n",
            "__________________________________________________________________________________________________\n",
            "batch_normalization_45 (BatchNo (None, 16, 16, 128)  512         conv2d_45[0][0]                  \n",
            "__________________________________________________________________________________________________\n",
            "activation_45 (Activation)      (None, 16, 16, 128)  0           batch_normalization_45[0][0]     \n",
            "__________________________________________________________________________________________________\n",
            "max_pooling2d_11 (MaxPooling2D) (None, 8, 8, 128)    0           activation_45[0][0]              \n",
            "__________________________________________________________________________________________________\n",
            "dropout_8 (Dropout)             (None, 8, 8, 128)    0           max_pooling2d_11[0][0]           \n",
            "__________________________________________________________________________________________________\n",
            "conv2d_46 (Conv2D)              (None, 8, 8, 256)    295168      dropout_8[0][0]                  \n",
            "__________________________________________________________________________________________________\n",
            "batch_normalization_46 (BatchNo (None, 8, 8, 256)    1024        conv2d_46[0][0]                  \n",
            "__________________________________________________________________________________________________\n",
            "activation_46 (Activation)      (None, 8, 8, 256)    0           batch_normalization_46[0][0]     \n",
            "__________________________________________________________________________________________________\n",
            "conv2d_47 (Conv2D)              (None, 8, 8, 256)    590080      activation_46[0][0]              \n",
            "__________________________________________________________________________________________________\n",
            "batch_normalization_47 (BatchNo (None, 8, 8, 256)    1024        conv2d_47[0][0]                  \n",
            "__________________________________________________________________________________________________\n",
            "activation_47 (Activation)      (None, 8, 8, 256)    0           batch_normalization_47[0][0]     \n",
            "__________________________________________________________________________________________________\n",
            "dropout_9 (Dropout)             (None, 8, 8, 256)    0           activation_47[0][0]              \n",
            "__________________________________________________________________________________________________\n",
            "conv2d_transpose_8 (Conv2DTrans (None, 16, 16, 128)  295040      dropout_9[0][0]                  \n",
            "__________________________________________________________________________________________________\n",
            "tf.concat_8 (TFOpLambda)        (None, 16, 16, 256)  0           conv2d_transpose_8[0][0]         \n",
            "                                                                 activation_45[0][0]              \n",
            "__________________________________________________________________________________________________\n",
            "conv2d_48 (Conv2D)              (None, 16, 16, 128)  295040      tf.concat_8[0][0]                \n",
            "__________________________________________________________________________________________________\n",
            "batch_normalization_48 (BatchNo (None, 16, 16, 128)  512         conv2d_48[0][0]                  \n",
            "__________________________________________________________________________________________________\n",
            "activation_48 (Activation)      (None, 16, 16, 128)  0           batch_normalization_48[0][0]     \n",
            "__________________________________________________________________________________________________\n",
            "conv2d_49 (Conv2D)              (None, 16, 16, 128)  147584      activation_48[0][0]              \n",
            "__________________________________________________________________________________________________\n",
            "batch_normalization_49 (BatchNo (None, 16, 16, 128)  512         conv2d_49[0][0]                  \n",
            "__________________________________________________________________________________________________\n",
            "activation_49 (Activation)      (None, 16, 16, 128)  0           batch_normalization_49[0][0]     \n",
            "__________________________________________________________________________________________________\n",
            "dropout_10 (Dropout)            (None, 16, 16, 128)  0           activation_49[0][0]              \n",
            "__________________________________________________________________________________________________\n",
            "conv2d_transpose_9 (Conv2DTrans (None, 32, 32, 64)   73792       dropout_10[0][0]                 \n",
            "__________________________________________________________________________________________________\n",
            "tf.concat_9 (TFOpLambda)        (None, 32, 32, 128)  0           conv2d_transpose_9[0][0]         \n",
            "                                                                 activation_43[0][0]              \n",
            "__________________________________________________________________________________________________\n",
            "conv2d_50 (Conv2D)              (None, 32, 32, 64)   73792       tf.concat_9[0][0]                \n",
            "__________________________________________________________________________________________________\n",
            "batch_normalization_50 (BatchNo (None, 32, 32, 64)   256         conv2d_50[0][0]                  \n",
            "__________________________________________________________________________________________________\n",
            "activation_50 (Activation)      (None, 32, 32, 64)   0           batch_normalization_50[0][0]     \n",
            "__________________________________________________________________________________________________\n",
            "conv2d_51 (Conv2D)              (None, 32, 32, 64)   36928       activation_50[0][0]              \n",
            "__________________________________________________________________________________________________\n",
            "batch_normalization_51 (BatchNo (None, 32, 32, 64)   256         conv2d_51[0][0]                  \n",
            "__________________________________________________________________________________________________\n",
            "activation_51 (Activation)      (None, 32, 32, 64)   0           batch_normalization_51[0][0]     \n",
            "__________________________________________________________________________________________________\n",
            "dropout_11 (Dropout)            (None, 32, 32, 64)   0           activation_51[0][0]              \n",
            "__________________________________________________________________________________________________\n",
            "conv2d_transpose_10 (Conv2DTran (None, 64, 64, 32)   18464       dropout_11[0][0]                 \n",
            "__________________________________________________________________________________________________\n",
            "tf.concat_10 (TFOpLambda)       (None, 64, 64, 64)   0           conv2d_transpose_10[0][0]        \n",
            "                                                                 activation_41[0][0]              \n",
            "__________________________________________________________________________________________________\n",
            "conv2d_52 (Conv2D)              (None, 64, 64, 32)   18464       tf.concat_10[0][0]               \n",
            "__________________________________________________________________________________________________\n",
            "batch_normalization_52 (BatchNo (None, 64, 64, 32)   128         conv2d_52[0][0]                  \n",
            "__________________________________________________________________________________________________\n",
            "activation_52 (Activation)      (None, 64, 64, 32)   0           batch_normalization_52[0][0]     \n",
            "__________________________________________________________________________________________________\n",
            "conv2d_53 (Conv2D)              (None, 64, 64, 32)   9248        activation_52[0][0]              \n",
            "__________________________________________________________________________________________________\n",
            "batch_normalization_53 (BatchNo (None, 64, 64, 32)   128         conv2d_53[0][0]                  \n",
            "__________________________________________________________________________________________________\n",
            "activation_53 (Activation)      (None, 64, 64, 32)   0           batch_normalization_53[0][0]     \n",
            "__________________________________________________________________________________________________\n",
            "conv2d_transpose_11 (Conv2DTran (None, 128, 128, 16) 4624        activation_53[0][0]              \n",
            "__________________________________________________________________________________________________\n",
            "tf.concat_11 (TFOpLambda)       (None, 128, 128, 32) 0           conv2d_transpose_11[0][0]        \n",
            "                                                                 activation_39[0][0]              \n",
            "__________________________________________________________________________________________________\n",
            "conv2d_54 (Conv2D)              (None, 128, 128, 16) 4624        tf.concat_11[0][0]               \n",
            "__________________________________________________________________________________________________\n",
            "batch_normalization_54 (BatchNo (None, 128, 128, 16) 64          conv2d_54[0][0]                  \n",
            "__________________________________________________________________________________________________\n",
            "activation_54 (Activation)      (None, 128, 128, 16) 0           batch_normalization_54[0][0]     \n",
            "__________________________________________________________________________________________________\n",
            "conv2d_55 (Conv2D)              (None, 128, 128, 16) 2320        activation_54[0][0]              \n",
            "__________________________________________________________________________________________________\n",
            "batch_normalization_55 (BatchNo (None, 128, 128, 16) 64          conv2d_55[0][0]                  \n",
            "__________________________________________________________________________________________________\n",
            "activation_55 (Activation)      (None, 128, 128, 16) 0           batch_normalization_55[0][0]     \n",
            "__________________________________________________________________________________________________\n",
            "conv2d_56 (Conv2D)              (None, 128, 128, 1)  17          activation_55[0][0]              \n",
            "__________________________________________________________________________________________________\n",
            "batch_normalization_56 (BatchNo (None, 128, 128, 1)  4           conv2d_56[0][0]                  \n",
            "__________________________________________________________________________________________________\n",
            "activation_56 (Activation)      (None, 128, 128, 1)  0           batch_normalization_56[0][0]     \n",
            "==================================================================================================\n",
            "Total params: 2,164,597\n",
            "Trainable params: 2,161,651\n",
            "Non-trainable params: 2,946\n",
            "__________________________________________________________________________________________________\n"
          ],
          "name": "stdout"
        }
      ]
    },
    {
      "cell_type": "code",
      "metadata": {
        "id": "7uEvk73Rk5BB"
      },
      "source": [
        "# learning rate schedule\n",
        "\n",
        "def step_decay(epoch):\n",
        "\tinitial_lrate = 1e-3\n",
        "\tdrop = 0.1\n",
        "\tepochs_drop = 50\n",
        "\tlrate = initial_lrate * math.pow(drop, math.floor((1+epoch)/epochs_drop))\n",
        "\treturn lrate"
      ],
      "execution_count": null,
      "outputs": []
    },
    {
      "cell_type": "code",
      "metadata": {
        "id": "6ox_rJ9JLa2b"
      },
      "source": [
        "\n",
        "lr = LearningRateScheduler(step_decay)\n",
        "es = EarlyStopping(patience=50,mode='min', verbose=1)\n",
        "checkpoint_path ='/content/drive/My Drive/LungCT/' + 'exp.h5'\n",
        "\n",
        "mc = ModelCheckpoint(checkpoint_path, monitor='val_loss', verbose=1 , save_best_only=True, mode='min')"
      ],
      "execution_count": null,
      "outputs": []
    },
    {
      "cell_type": "code",
      "metadata": {
        "id": "8WAemFPALdjc"
      },
      "source": [
        "model.compile(optimizer='adam',\n",
        "              loss=tf.keras.losses.BinaryCrossentropy(from_logits=True),\n",
        "              metrics=['accuracy'])\n"
      ],
      "execution_count": null,
      "outputs": []
    },
    {
      "cell_type": "code",
      "metadata": {
        "colab": {
          "base_uri": "https://localhost:8080/"
        },
        "id": "Dv_lcxLuLnrd",
        "outputId": "02a23d28-b069-4296-82cb-92519c514131"
      },
      "source": [
        "history = model.fit(train_generator,\n",
        "                    steps_per_epoch=steps,\n",
        "                    validation_data=val_generator,\n",
        "                    validation_steps=steps_val,\n",
        "                    epochs=100,\n",
        "                    verbose=1,\n",
        "                    callbacks=[es,mc,lr])"
      ],
      "execution_count": null,
      "outputs": [
        {
          "output_type": "stream",
          "text": [
            "Epoch 1/100\n",
            "62/62 [==============================] - 23s 321ms/step - loss: 0.5737 - accuracy: 0.8280 - val_loss: 7.7041 - val_accuracy: 0.2147\n",
            "\n",
            "Epoch 00001: val_loss improved from inf to 7.70407, saving model to /content/drive/My Drive/LungCT/exp.h5\n",
            "Epoch 2/100\n",
            "62/62 [==============================] - 19s 305ms/step - loss: 0.4653 - accuracy: 0.9836 - val_loss: 0.5743 - val_accuracy: 0.8782\n",
            "\n",
            "Epoch 00002: val_loss improved from 7.70407 to 0.57425, saving model to /content/drive/My Drive/LungCT/exp.h5\n",
            "Epoch 3/100\n",
            "62/62 [==============================] - 19s 304ms/step - loss: 0.4371 - accuracy: 0.9883 - val_loss: 0.4879 - val_accuracy: 0.9401\n",
            "\n",
            "Epoch 00003: val_loss improved from 0.57425 to 0.48790, saving model to /content/drive/My Drive/LungCT/exp.h5\n",
            "Epoch 4/100\n",
            "61/62 [============================>.] - ETA: 0s - loss: 0.4053 - accuracy: 0.9918"
          ],
          "name": "stdout"
        }
      ]
    },
    {
      "cell_type": "code",
      "metadata": {
        "id": "m0PP-gUtLq45"
      },
      "source": [
        "import numpy as np\n",
        "\n",
        "plt.figure(1)\n",
        "plt.plot(history.history['accuracy'], label='accuracy')\n",
        "plt.plot(history.history['val_accuracy'], label = 'val_accuracy')\n",
        "plt.xlabel('Epoch')\n",
        "plt.ylabel('Accuracy')\n",
        "plt.ylim([0, 1])\n",
        "plt.yticks(np.arange(0, 1, step=0.05))\n",
        "plt.grid(color='k', linestyle='--', linewidth=0.4)\n",
        "plt.legend(loc='lower right')\n",
        "#plt.savefig(dir + 'accuracy_CNN_ ' + Exp +  '.png')\n",
        "\n",
        "plt.figure(2)\n",
        "plt.plot(history.history['loss'], label='loss')\n",
        "plt.plot(history.history['val_loss'], label = 'val_loss')\n",
        "plt.xlabel('Epoch')\n",
        "plt.ylabel('Loss')\n",
        "#plt.ylim([0, 1])\n",
        "#plt.yticks(np.arange(0, 1, step=0.05))\n",
        "plt.grid(color='k', linestyle='--', linewidth=0.4)\n",
        "plt.legend(loc='lower right')\n",
        "#plt.savefig(dir + 'loss_CNN_' + Exp + '.png')"
      ],
      "execution_count": null,
      "outputs": []
    },
    {
      "cell_type": "code",
      "metadata": {
        "id": "TO-vuMAiSCuw",
        "colab": {
          "base_uri": "https://localhost:8080/",
          "height": 782
        },
        "outputId": "afc8158c-b2ef-40af-e50e-3559e74244d6"
      },
      "source": [
        "! pip install git+https://github.com/divamgupta/image-segmentation-keras"
      ],
      "execution_count": null,
      "outputs": [
        {
          "output_type": "stream",
          "text": [
            "Collecting git+https://github.com/divamgupta/image-segmentation-keras\n",
            "  Cloning https://github.com/divamgupta/image-segmentation-keras to /tmp/pip-req-build-_h3o0vji\n",
            "  Running command git clone -q https://github.com/divamgupta/image-segmentation-keras /tmp/pip-req-build-_h3o0vji\n",
            "Requirement already satisfied: h5py<=2.10.0 in /usr/local/lib/python3.7/dist-packages (from keras-segmentation==0.3.0) (2.10.0)\n",
            "Requirement already satisfied: Keras>=2.0.0 in /usr/local/lib/python3.7/dist-packages (from keras-segmentation==0.3.0) (2.4.3)\n",
            "Collecting imageio==2.5.0\n",
            "\u001b[?25l  Downloading https://files.pythonhosted.org/packages/af/0a/943c965d372dae0b1f1482677d29030ab834351a61a9a632fd62f27f1523/imageio-2.5.0-py3-none-any.whl (3.3MB)\n",
            "\u001b[K     |████████████████████████████████| 3.3MB 17.0MB/s \n",
            "\u001b[?25hCollecting imgaug>=0.4.0\n",
            "\u001b[?25l  Downloading https://files.pythonhosted.org/packages/66/b1/af3142c4a85cba6da9f4ebb5ff4e21e2616309552caca5e8acefe9840622/imgaug-0.4.0-py2.py3-none-any.whl (948kB)\n",
            "\u001b[K     |████████████████████████████████| 952kB 56.9MB/s \n",
            "\u001b[?25hRequirement already satisfied: opencv-python in /usr/local/lib/python3.7/dist-packages (from keras-segmentation==0.3.0) (4.1.2.30)\n",
            "Requirement already satisfied: tqdm in /usr/local/lib/python3.7/dist-packages (from keras-segmentation==0.3.0) (4.41.1)\n",
            "Requirement already satisfied: six in /usr/local/lib/python3.7/dist-packages (from h5py<=2.10.0->keras-segmentation==0.3.0) (1.15.0)\n",
            "Requirement already satisfied: numpy>=1.7 in /usr/local/lib/python3.7/dist-packages (from h5py<=2.10.0->keras-segmentation==0.3.0) (1.19.5)\n",
            "Requirement already satisfied: scipy>=0.14 in /usr/local/lib/python3.7/dist-packages (from Keras>=2.0.0->keras-segmentation==0.3.0) (1.4.1)\n",
            "Requirement already satisfied: pyyaml in /usr/local/lib/python3.7/dist-packages (from Keras>=2.0.0->keras-segmentation==0.3.0) (3.13)\n",
            "Requirement already satisfied: pillow in /usr/local/lib/python3.7/dist-packages (from imageio==2.5.0->keras-segmentation==0.3.0) (7.1.2)\n",
            "Requirement already satisfied: scikit-image>=0.14.2 in /usr/local/lib/python3.7/dist-packages (from imgaug>=0.4.0->keras-segmentation==0.3.0) (0.16.2)\n",
            "Requirement already satisfied: matplotlib in /usr/local/lib/python3.7/dist-packages (from imgaug>=0.4.0->keras-segmentation==0.3.0) (3.2.2)\n",
            "Requirement already satisfied: Shapely in /usr/local/lib/python3.7/dist-packages (from imgaug>=0.4.0->keras-segmentation==0.3.0) (1.7.1)\n",
            "Requirement already satisfied: PyWavelets>=0.4.0 in /usr/local/lib/python3.7/dist-packages (from scikit-image>=0.14.2->imgaug>=0.4.0->keras-segmentation==0.3.0) (1.1.1)\n",
            "Requirement already satisfied: networkx>=2.0 in /usr/local/lib/python3.7/dist-packages (from scikit-image>=0.14.2->imgaug>=0.4.0->keras-segmentation==0.3.0) (2.5.1)\n",
            "Requirement already satisfied: kiwisolver>=1.0.1 in /usr/local/lib/python3.7/dist-packages (from matplotlib->imgaug>=0.4.0->keras-segmentation==0.3.0) (1.3.1)\n",
            "Requirement already satisfied: pyparsing!=2.0.4,!=2.1.2,!=2.1.6,>=2.0.1 in /usr/local/lib/python3.7/dist-packages (from matplotlib->imgaug>=0.4.0->keras-segmentation==0.3.0) (2.4.7)\n",
            "Requirement already satisfied: python-dateutil>=2.1 in /usr/local/lib/python3.7/dist-packages (from matplotlib->imgaug>=0.4.0->keras-segmentation==0.3.0) (2.8.1)\n",
            "Requirement already satisfied: cycler>=0.10 in /usr/local/lib/python3.7/dist-packages (from matplotlib->imgaug>=0.4.0->keras-segmentation==0.3.0) (0.10.0)\n",
            "Requirement already satisfied: decorator<5,>=4.3 in /usr/local/lib/python3.7/dist-packages (from networkx>=2.0->scikit-image>=0.14.2->imgaug>=0.4.0->keras-segmentation==0.3.0) (4.4.2)\n",
            "Building wheels for collected packages: keras-segmentation\n",
            "  Building wheel for keras-segmentation (setup.py) ... \u001b[?25l\u001b[?25hdone\n",
            "  Created wheel for keras-segmentation: filename=keras_segmentation-0.3.0-cp37-none-any.whl size=34545 sha256=a2919d0b963507593a02808cdb83bd7ee9749c9d18a6f8c3f2c97286e34f55c5\n",
            "  Stored in directory: /tmp/pip-ephem-wheel-cache-qofblbfv/wheels/a8/be/2c/1e1f0a75330e3ae33dd34c2ba085929eb7c7ae1d2184f4b7b5\n",
            "Successfully built keras-segmentation\n",
            "\u001b[31mERROR: albumentations 0.1.12 has requirement imgaug<0.2.7,>=0.2.5, but you'll have imgaug 0.4.0 which is incompatible.\u001b[0m\n",
            "Installing collected packages: imageio, imgaug, keras-segmentation\n",
            "  Found existing installation: imageio 2.4.1\n",
            "    Uninstalling imageio-2.4.1:\n",
            "      Successfully uninstalled imageio-2.4.1\n",
            "  Found existing installation: imgaug 0.2.9\n",
            "    Uninstalling imgaug-0.2.9:\n",
            "      Successfully uninstalled imgaug-0.2.9\n",
            "Successfully installed imageio-2.5.0 imgaug-0.4.0 keras-segmentation-0.3.0\n"
          ],
          "name": "stdout"
        },
        {
          "output_type": "display_data",
          "data": {
            "application/vnd.colab-display-data+json": {
              "pip_warning": {
                "packages": [
                  "imageio",
                  "imgaug"
                ]
              }
            }
          },
          "metadata": {
            "tags": []
          }
        }
      ]
    },
    {
      "cell_type": "code",
      "metadata": {
        "id": "kNdtEyVqCM09"
      },
      "source": [
        ""
      ],
      "execution_count": null,
      "outputs": []
    }
  ]
}